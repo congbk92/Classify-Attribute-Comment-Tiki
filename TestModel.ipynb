{
 "cells": [
  {
   "cell_type": "code",
   "execution_count": 2,
   "metadata": {},
   "outputs": [],
   "source": [
    "import string\n",
    "import re\n",
    "import numpy as np\n",
    "import pandas as pd\n",
    "from sklearn.feature_extraction.text import TfidfVectorizer\n",
    "from sklearn import metrics\n",
    "import pickle\n",
    "from sklearn.multioutput import ClassifierChain\n",
    "from sklearn.ensemble import RandomForestClassifier"
   ]
  },
  {
   "cell_type": "code",
   "execution_count": 3,
   "metadata": {},
   "outputs": [],
   "source": [
    "rand_search = pickle.load(open('finalized_model.sav', 'rb'))"
   ]
  },
  {
   "cell_type": "code",
   "execution_count": 19,
   "metadata": {},
   "outputs": [
    {
     "name": "stdout",
     "output_type": "stream",
     "text": [
      "chuột dùng mượt tiki mặc dù trễ một hai ngày thế nhưng kiện hàng rất chắc chắn cầm kiện hàng lắc nhẹ cũng không thấy bên trong dao động\n"
     ]
    }
   ],
   "source": [
    "comment_content = \"chuột dùng mượt tiki mặc dù trễ một hai ngày thế nhưng kiện hàng rất chắc chắn cầm kiện hàng lắc nhẹ cũng không thấy bên trong dao động\"\n",
    "\n",
    "df = pd.DataFrame([comment_content], columns=['comment_content'])\n",
    "#Convert all to lower case\n",
    "df.comment_content = df.comment_content.apply(lambda x: x.lower())\n",
    "#Remove punctuation, number, Emojify\n",
    "df.comment_content = df.comment_content.str.replace(r\"\"\"[^a-z\\s\n",
    "                                    \\à\\á\\ạ\\ả\\ã\\â\\ầ\\ấ\\ậ\\ẩ\\ẫ\\ă\\ằ\\ắ\\ặ\\ẳ\\ẵ\n",
    "                                    \\è\\é\\ẹ\\ẻ\\ẽ\\ê\\ề\\ế\\ệ\\ể\\ễ\n",
    "                                    \\ì\\í\\ị\\ỉ\\ĩ\n",
    "                                    \\ò\\ó\\ọ\\ỏ\\õ\\ô\\ồ\\ố\\ộ\\ổ\\ỗ\\ơ\\ờ\\ớ\\ợ\\ở\\ỡ\n",
    "                                    \\ù\\ú\\ụ\\ủ\\ũ\\ư\\ừ\\ứ\\ự\\ử\\ữ\n",
    "                                    \\ỳ\\ý\\ỵ\\ỷ\\ỹ\n",
    "                                    \\đ]\"\"\", '')\n",
    "print(df.comment_content[0])"
   ]
  },
  {
   "cell_type": "code",
   "execution_count": 20,
   "metadata": {},
   "outputs": [
    {
     "name": "stdout",
     "output_type": "stream",
     "text": [
      "Thiet ke\n",
      "Chat luong san pham\n"
     ]
    }
   ],
   "source": [
    "predict = [rand_search[i].predict(df['comment_content']) for i in range(len(rand_search))]\n",
    "for i in range(len(predict)):\n",
    "    if (predict[i] == 1):\n",
    "        print(target[i])"
   ]
  },
  {
   "cell_type": "code",
   "execution_count": null,
   "metadata": {},
   "outputs": [],
   "source": []
  }
 ],
 "metadata": {
  "kernelspec": {
   "display_name": "Python 3",
   "language": "python",
   "name": "python3"
  },
  "language_info": {
   "codemirror_mode": {
    "name": "ipython",
    "version": 3
   },
   "file_extension": ".py",
   "mimetype": "text/x-python",
   "name": "python",
   "nbconvert_exporter": "python",
   "pygments_lexer": "ipython3",
   "version": "3.7.1"
  }
 },
 "nbformat": 4,
 "nbformat_minor": 2
}
