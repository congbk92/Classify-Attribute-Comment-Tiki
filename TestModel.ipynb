{
 "cells": [
  {
   "cell_type": "code",
   "execution_count": 24,
   "metadata": {},
   "outputs": [],
   "source": [
    "import string\n",
    "import re\n",
    "import numpy as np\n",
    "import pandas as pd\n",
    "from sklearn.feature_extraction.text import TfidfVectorizer\n",
    "from sklearn.model_selection import train_test_split\n",
    "from sklearn import metrics\n",
    "from imblearn.metrics import classification_report_imbalanced\n",
    "import pickle\n",
    "from sklearn.multioutput import ClassifierChain\n",
    "from sklearn.ensemble import RandomForestClassifier"
   ]
  },
  {
   "cell_type": "code",
   "execution_count": null,
   "metadata": {},
   "outputs": [],
   "source": [
    "vectorizer = pickle.load(open('tfidf.pickle', 'rb'))\n",
    "loaded_model = pickle.load(open('finalized_model.sav', 'rb'))"
   ]
  },
  {
   "cell_type": "code",
   "execution_count": 72,
   "metadata": {},
   "outputs": [
    {
     "name": "stdout",
     "output_type": "stream",
     "text": [
      "sp cầm rất chắc chắn hoạt động nhạy êm ổn định nên trang bị thêm tấm lót chuột\n"
     ]
    }
   ],
   "source": [
    "comment_content = 'Sp cầm rất chắc chắn, hoạt động nhạy, êm, ổn định. Nên trang bị thêm tấm lót chuột'\n",
    "df = pd.DataFrame([comment_content], columns=['comment_content'])\n",
    "#Convert all to lower case\n",
    "df.comment_content = df.comment_content.apply(lambda x: x.lower())\n",
    "#Remove punctuation, number, Emojify\n",
    "df.comment_content = df.comment_content.str.replace(r\"\"\"[^a-z\\s\n",
    "                                    \\à\\á\\ạ\\ả\\ã\\â\\ầ\\ấ\\ậ\\ẩ\\ẫ\\ă\\ằ\\ắ\\ặ\\ẳ\\ẵ\n",
    "                                    \\è\\é\\ẹ\\ẻ\\ẽ\\ê\\ề\\ế\\ệ\\ể\\ễ\n",
    "                                    \\ì\\í\\ị\\ỉ\\ĩ\n",
    "                                    \\ò\\ó\\ọ\\ỏ\\õ\\ô\\ồ\\ố\\ộ\\ổ\\ỗ\\ơ\\ờ\\ớ\\ợ\\ở\\ỡ\n",
    "                                    \\ù\\ú\\ụ\\ủ\\ũ\\ư\\ừ\\ứ\\ự\\ử\\ữ\n",
    "                                    \\ỳ\\ý\\ỵ\\ỷ\\ỹ\n",
    "                                    \\đ]\"\"\", '')\n",
    "print(df.comment_content[0])"
   ]
  },
  {
   "cell_type": "code",
   "execution_count": 73,
   "metadata": {},
   "outputs": [],
   "source": [
    "vector_comment_content = vectorizer.transform(df.comment_content)\n",
    "result = loaded_model.predict(vector_comment_content)"
   ]
  },
  {
   "cell_type": "code",
   "execution_count": 74,
   "metadata": {},
   "outputs": [
    {
     "name": "stdout",
     "output_type": "stream",
     "text": [
      "Thiet ke\n",
      "Do nhay\n"
     ]
    }
   ],
   "source": [
    "target = ['Giao hang', 'Dong goi', 'Tieng click chuot', 'Gia ban', 'Thiet ke', \n",
    "          'Chat luong san pham', 'Pin', 'Cham soc khach hang', 'Do nhay', 'Ket noi']\n",
    "for i in range(len(result[0])):\n",
    "    if (result[0][i] == 1):\n",
    "        print(target[i])  "
   ]
  },
  {
   "cell_type": "code",
   "execution_count": null,
   "metadata": {},
   "outputs": [],
   "source": []
  }
 ],
 "metadata": {
  "kernelspec": {
   "display_name": "Python 3",
   "language": "python",
   "name": "python3"
  },
  "language_info": {
   "codemirror_mode": {
    "name": "ipython",
    "version": 3
   },
   "file_extension": ".py",
   "mimetype": "text/x-python",
   "name": "python",
   "nbconvert_exporter": "python",
   "pygments_lexer": "ipython3",
   "version": "3.7.1"
  }
 },
 "nbformat": 4,
 "nbformat_minor": 2
}
