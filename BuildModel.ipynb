{
 "cells": [
  {
   "cell_type": "code",
   "execution_count": 1,
   "metadata": {},
   "outputs": [],
   "source": [
    "import string\n",
    "import re\n",
    "import numpy as np\n",
    "import pandas as pd\n",
    "from sklearn.feature_extraction.text import TfidfVectorizer\n",
    "from sklearn.model_selection import train_test_split\n",
    "from sklearn import metrics\n",
    "from imblearn.metrics import classification_report_imbalanced\n",
    "import csv"
   ]
  },
  {
   "cell_type": "code",
   "execution_count": 2,
   "metadata": {},
   "outputs": [
    {
     "name": "stdout",
     "output_type": "stream",
     "text": [
      "(751, 8)\n"
     ]
    },
    {
     "data": {
      "text/html": [
       "<div>\n",
       "<style scoped>\n",
       "    .dataframe tbody tr th:only-of-type {\n",
       "        vertical-align: middle;\n",
       "    }\n",
       "\n",
       "    .dataframe tbody tr th {\n",
       "        vertical-align: top;\n",
       "    }\n",
       "\n",
       "    .dataframe thead th {\n",
       "        text-align: right;\n",
       "    }\n",
       "</style>\n",
       "<table border=\"1\" class=\"dataframe\">\n",
       "  <thead>\n",
       "    <tr style=\"text-align: right;\">\n",
       "      <th></th>\n",
       "      <th>comment_content</th>\n",
       "      <th>Giao hang</th>\n",
       "      <th>Dong goi</th>\n",
       "      <th>Gia ban</th>\n",
       "      <th>Thiet ke</th>\n",
       "      <th>Chat luong san pham</th>\n",
       "      <th>Cham soc khach hang</th>\n",
       "      <th>Do nhay</th>\n",
       "    </tr>\n",
       "  </thead>\n",
       "  <tbody>\n",
       "    <tr>\n",
       "      <th>0</th>\n",
       "      <td>sản phẩm giống mô tả và tốt hơn mong đợi chất ...</td>\n",
       "      <td>1.0</td>\n",
       "      <td>1.0</td>\n",
       "      <td>0.0</td>\n",
       "      <td>0.0</td>\n",
       "      <td>1.0</td>\n",
       "      <td>1.0</td>\n",
       "      <td>0.0</td>\n",
       "    </tr>\n",
       "    <tr>\n",
       "      <th>1</th>\n",
       "      <td>về tiki mua hàng trên tiki thì luôn an tâm ở  ...</td>\n",
       "      <td>0.0</td>\n",
       "      <td>0.0</td>\n",
       "      <td>0.0</td>\n",
       "      <td>1.0</td>\n",
       "      <td>1.0</td>\n",
       "      <td>0.0</td>\n",
       "      <td>1.0</td>\n",
       "    </tr>\n",
       "    <tr>\n",
       "      <th>2</th>\n",
       "      <td>giao hàng nhanh chóng và dịch vụ tốt thông báo...</td>\n",
       "      <td>1.0</td>\n",
       "      <td>0.0</td>\n",
       "      <td>0.0</td>\n",
       "      <td>0.0</td>\n",
       "      <td>1.0</td>\n",
       "      <td>0.0</td>\n",
       "      <td>0.0</td>\n",
       "    </tr>\n",
       "    <tr>\n",
       "      <th>3</th>\n",
       "      <td>đóng gói hàng cẩn thận chắc chắn</td>\n",
       "      <td>0.0</td>\n",
       "      <td>1.0</td>\n",
       "      <td>0.0</td>\n",
       "      <td>0.0</td>\n",
       "      <td>0.0</td>\n",
       "      <td>0.0</td>\n",
       "      <td>0.0</td>\n",
       "    </tr>\n",
       "    <tr>\n",
       "      <th>4</th>\n",
       "      <td>sản phẩm giống mô tả và tốt hơn mong đợi chất ...</td>\n",
       "      <td>0.0</td>\n",
       "      <td>0.0</td>\n",
       "      <td>0.0</td>\n",
       "      <td>0.0</td>\n",
       "      <td>1.0</td>\n",
       "      <td>1.0</td>\n",
       "      <td>0.0</td>\n",
       "    </tr>\n",
       "  </tbody>\n",
       "</table>\n",
       "</div>"
      ],
      "text/plain": [
       "                                     comment_content  Giao hang  Dong goi  \\\n",
       "0  sản phẩm giống mô tả và tốt hơn mong đợi chất ...        1.0       1.0   \n",
       "1  về tiki mua hàng trên tiki thì luôn an tâm ở  ...        0.0       0.0   \n",
       "2  giao hàng nhanh chóng và dịch vụ tốt thông báo...        1.0       0.0   \n",
       "3                đóng gói hàng cẩn thận chắc chắn           0.0       1.0   \n",
       "4  sản phẩm giống mô tả và tốt hơn mong đợi chất ...        0.0       0.0   \n",
       "\n",
       "   Gia ban  Thiet ke  Chat luong san pham  Cham soc khach hang  Do nhay  \n",
       "0      0.0       0.0                  1.0                  1.0      0.0  \n",
       "1      0.0       1.0                  1.0                  0.0      1.0  \n",
       "2      0.0       0.0                  1.0                  0.0      0.0  \n",
       "3      0.0       0.0                  0.0                  0.0      0.0  \n",
       "4      0.0       0.0                  1.0                  1.0      0.0  "
      ]
     },
     "execution_count": 2,
     "metadata": {},
     "output_type": "execute_result"
    }
   ],
   "source": [
    "df = pd.read_csv('Train.csv', sep=',')\n",
    "print(df.shape)\n",
    "df.head()"
   ]
  },
  {
   "cell_type": "code",
   "execution_count": 3,
   "metadata": {},
   "outputs": [
    {
     "data": {
      "text/plain": [
       "Giao hang              262.0\n",
       "Dong goi               208.0\n",
       "Gia ban                107.0\n",
       "Thiet ke               240.0\n",
       "Chat luong san pham    434.0\n",
       "Cham soc khach hang     87.0\n",
       "Do nhay                203.0\n",
       "dtype: float64"
      ]
     },
     "execution_count": 3,
     "metadata": {},
     "output_type": "execute_result"
    }
   ],
   "source": [
    "df.sum(numeric_only=True)"
   ]
  },
  {
   "cell_type": "code",
   "execution_count": 5,
   "metadata": {},
   "outputs": [
    {
     "name": "stdout",
     "output_type": "stream",
     "text": [
      "Fitting 5 folds for each of 20 candidates, totalling 100 fits\n"
     ]
    },
    {
     "name": "stderr",
     "output_type": "stream",
     "text": [
      "[Parallel(n_jobs=-1)]: Using backend LokyBackend with 6 concurrent workers.\n",
      "[Parallel(n_jobs=-1)]: Done  29 tasks      | elapsed:    6.7s\n",
      "[Parallel(n_jobs=-1)]: Done 100 out of 100 | elapsed:   20.4s finished\n"
     ]
    },
    {
     "name": "stdout",
     "output_type": "stream",
     "text": [
      "{'clf__C': 2.871292997015407, 'clf__gamma': 0.12021839744032572, 'vect__word_vect__ngram_range': (1, 4)}\n",
      "0.9130965634014689\n",
      "Fitting 5 folds for each of 20 candidates, totalling 100 fits\n"
     ]
    },
    {
     "name": "stderr",
     "output_type": "stream",
     "text": [
      "[Parallel(n_jobs=-1)]: Using backend LokyBackend with 6 concurrent workers.\n",
      "[Parallel(n_jobs=-1)]: Done  29 tasks      | elapsed:    6.4s\n",
      "[Parallel(n_jobs=-1)]: Done 100 out of 100 | elapsed:   21.5s finished\n"
     ]
    },
    {
     "name": "stdout",
     "output_type": "stream",
     "text": [
      "{'clf__C': 11.13962024579233, 'clf__gamma': 0.5572048079869882, 'vect__word_vect__ngram_range': (1, 2)}\n",
      "0.9881532418430337\n",
      "Fitting 5 folds for each of 20 candidates, totalling 100 fits\n"
     ]
    },
    {
     "name": "stderr",
     "output_type": "stream",
     "text": [
      "[Parallel(n_jobs=-1)]: Using backend LokyBackend with 6 concurrent workers.\n",
      "[Parallel(n_jobs=-1)]: Done  29 tasks      | elapsed:    6.3s\n",
      "[Parallel(n_jobs=-1)]: Done 100 out of 100 | elapsed:   21.1s finished\n"
     ]
    },
    {
     "name": "stdout",
     "output_type": "stream",
     "text": [
      "{'clf__C': 2.820949222750248, 'clf__gamma': 0.4663424016750204, 'vect__word_vect__ngram_range': (1, 1)}\n",
      "0.9542314593411677\n",
      "Fitting 5 folds for each of 20 candidates, totalling 100 fits\n"
     ]
    },
    {
     "name": "stderr",
     "output_type": "stream",
     "text": [
      "[Parallel(n_jobs=-1)]: Using backend LokyBackend with 6 concurrent workers.\n",
      "[Parallel(n_jobs=-1)]: Done  29 tasks      | elapsed:    5.1s\n",
      "[Parallel(n_jobs=-1)]: Done 100 out of 100 | elapsed:   21.7s finished\n"
     ]
    },
    {
     "name": "stdout",
     "output_type": "stream",
     "text": [
      "{'clf__C': 11.736482669357393, 'clf__gamma': 0.502360643558958, 'vect__word_vect__ngram_range': (1, 2)}\n",
      "0.8905219622139704\n",
      "Fitting 5 folds for each of 20 candidates, totalling 100 fits\n"
     ]
    },
    {
     "name": "stderr",
     "output_type": "stream",
     "text": [
      "[Parallel(n_jobs=-1)]: Using backend LokyBackend with 6 concurrent workers.\n",
      "[Parallel(n_jobs=-1)]: Done  29 tasks      | elapsed:    7.0s\n",
      "[Parallel(n_jobs=-1)]: Done 100 out of 100 | elapsed:   20.3s finished\n"
     ]
    },
    {
     "name": "stdout",
     "output_type": "stream",
     "text": [
      "{'clf__C': 10.556209483356476, 'clf__gamma': 0.7090356014499725, 'vect__word_vect__ngram_range': (1, 2)}\n",
      "0.7673745990864198\n",
      "Fitting 5 folds for each of 20 candidates, totalling 100 fits\n"
     ]
    },
    {
     "name": "stderr",
     "output_type": "stream",
     "text": [
      "[Parallel(n_jobs=-1)]: Using backend LokyBackend with 6 concurrent workers.\n",
      "[Parallel(n_jobs=-1)]: Done  29 tasks      | elapsed:    8.8s\n",
      "[Parallel(n_jobs=-1)]: Done 100 out of 100 | elapsed:   21.1s finished\n"
     ]
    },
    {
     "name": "stdout",
     "output_type": "stream",
     "text": [
      "{'clf__C': 2.24306561629487, 'clf__gamma': 0.30455554637995064, 'vect__word_vect__ngram_range': (1, 2)}\n",
      "0.9771461873612565\n",
      "Fitting 5 folds for each of 20 candidates, totalling 100 fits\n"
     ]
    },
    {
     "name": "stderr",
     "output_type": "stream",
     "text": [
      "[Parallel(n_jobs=-1)]: Using backend LokyBackend with 6 concurrent workers.\n",
      "[Parallel(n_jobs=-1)]: Done  29 tasks      | elapsed:    8.1s\n",
      "[Parallel(n_jobs=-1)]: Done 100 out of 100 | elapsed:   21.1s finished\n"
     ]
    },
    {
     "name": "stdout",
     "output_type": "stream",
     "text": [
      "{'clf__C': 9.708809663078798, 'clf__gamma': 0.8647509835004671, 'vect__word_vect__ngram_range': (1, 1)}\n",
      "0.9167364660811901\n"
     ]
    }
   ],
   "source": [
    "from sklearn import preprocessing\n",
    "from sklearn.model_selection import GridSearchCV, RandomizedSearchCV \n",
    "from sklearn.svm import SVC as svc \n",
    "from sklearn.metrics import make_scorer, roc_auc_score\n",
    "from scipy import stats\n",
    "from sklearn.pipeline import Pipeline, FeatureUnion\n",
    "\n",
    "mdl = svc(probability = True, random_state = 1)\n",
    "target = df.columns[1:]\n",
    "vectorizer = TfidfVectorizer(sublinear_tf=True, strip_accents='unicode', analyzer='word', ngram_range=(1,3))\n",
    "word_vectorizer = FeatureUnion([('word_vect', vectorizer)])\n",
    "\n",
    "pipeline = Pipeline([\n",
    "    ('vect', word_vectorizer),\n",
    "    ('clf', mdl),\n",
    "     ])\n",
    "\n",
    "rand_list = {\"vect__word_vect__ngram_range\":  [(1, 1), (1, 2), (1, 3), (1, 4), (1, 5), (1,6),(1,7)],\n",
    "             \"clf__C\": stats.uniform(2, 10),\n",
    "             \"clf__gamma\": stats.uniform(0.1, 1)}\n",
    "\n",
    "rand_search = [RandomizedSearchCV(pipeline, param_distributions = rand_list, n_iter=20, cv=5, \n",
    "                                   scoring='roc_auc', n_jobs=-1, verbose=2, random_state = i) for i in range(len(target))]\n",
    "\n",
    "for i in range(len(rand_search)):\n",
    "    rand_search[i].fit(df['comment_content'], df[target[i]]) \n",
    "    print(rand_search[i].best_params_)\n",
    "    print(rand_search[i].best_score_)"
   ]
  },
  {
   "cell_type": "code",
   "execution_count": 6,
   "metadata": {},
   "outputs": [],
   "source": [
    "import pickle\n",
    "pickle.dump(rand_search, open('finalized_model.sav', 'wb'))"
   ]
  },
  {
   "cell_type": "code",
   "execution_count": 7,
   "metadata": {},
   "outputs": [
    {
     "name": "stdout",
     "output_type": "stream",
     "text": [
      "(188, 8)\n"
     ]
    },
    {
     "data": {
      "text/html": [
       "<div>\n",
       "<style scoped>\n",
       "    .dataframe tbody tr th:only-of-type {\n",
       "        vertical-align: middle;\n",
       "    }\n",
       "\n",
       "    .dataframe tbody tr th {\n",
       "        vertical-align: top;\n",
       "    }\n",
       "\n",
       "    .dataframe thead th {\n",
       "        text-align: right;\n",
       "    }\n",
       "</style>\n",
       "<table border=\"1\" class=\"dataframe\">\n",
       "  <thead>\n",
       "    <tr style=\"text-align: right;\">\n",
       "      <th></th>\n",
       "      <th>comment_content</th>\n",
       "      <th>Giao hang</th>\n",
       "      <th>Dong goi</th>\n",
       "      <th>Gia ban</th>\n",
       "      <th>Thiet ke</th>\n",
       "      <th>Chat luong san pham</th>\n",
       "      <th>Cham soc khach hang</th>\n",
       "      <th>Do nhay</th>\n",
       "    </tr>\n",
       "  </thead>\n",
       "  <tbody>\n",
       "    <tr>\n",
       "      <th>0</th>\n",
       "      <td>chuột êm kết nối dể dàng với macbook qua bluet...</td>\n",
       "      <td>0.0</td>\n",
       "      <td>0.0</td>\n",
       "      <td>0.0</td>\n",
       "      <td>0.0</td>\n",
       "      <td>1.0</td>\n",
       "      <td>0.0</td>\n",
       "      <td>1.0</td>\n",
       "    </tr>\n",
       "    <tr>\n",
       "      <th>1</th>\n",
       "      <td>bộ phím chuột không dây rapoo p sản phẩm đẹp c...</td>\n",
       "      <td>0.0</td>\n",
       "      <td>0.0</td>\n",
       "      <td>1.0</td>\n",
       "      <td>1.0</td>\n",
       "      <td>1.0</td>\n",
       "      <td>0.0</td>\n",
       "      <td>0.0</td>\n",
       "    </tr>\n",
       "    <tr>\n",
       "      <th>2</th>\n",
       "      <td>chuột chuẩn hơn bên nova computer khôg bị xước...</td>\n",
       "      <td>1.0</td>\n",
       "      <td>0.0</td>\n",
       "      <td>0.0</td>\n",
       "      <td>0.0</td>\n",
       "      <td>1.0</td>\n",
       "      <td>0.0</td>\n",
       "      <td>0.0</td>\n",
       "    </tr>\n",
       "    <tr>\n",
       "      <th>3</th>\n",
       "      <td>tiki đóng gói kĩ giao hàng nhanh cực kỳ thông ...</td>\n",
       "      <td>1.0</td>\n",
       "      <td>1.0</td>\n",
       "      <td>0.0</td>\n",
       "      <td>1.0</td>\n",
       "      <td>0.0</td>\n",
       "      <td>0.0</td>\n",
       "      <td>1.0</td>\n",
       "    </tr>\n",
       "    <tr>\n",
       "      <th>4</th>\n",
       "      <td>sản phẩm giống mô tả và tốt hơn mong đợi chất ...</td>\n",
       "      <td>0.0</td>\n",
       "      <td>1.0</td>\n",
       "      <td>0.0</td>\n",
       "      <td>0.0</td>\n",
       "      <td>1.0</td>\n",
       "      <td>0.0</td>\n",
       "      <td>0.0</td>\n",
       "    </tr>\n",
       "  </tbody>\n",
       "</table>\n",
       "</div>"
      ],
      "text/plain": [
       "                                     comment_content  Giao hang  Dong goi  \\\n",
       "0  chuột êm kết nối dể dàng với macbook qua bluet...        0.0       0.0   \n",
       "1  bộ phím chuột không dây rapoo p sản phẩm đẹp c...        0.0       0.0   \n",
       "2  chuột chuẩn hơn bên nova computer khôg bị xước...        1.0       0.0   \n",
       "3  tiki đóng gói kĩ giao hàng nhanh cực kỳ thông ...        1.0       1.0   \n",
       "4  sản phẩm giống mô tả và tốt hơn mong đợi chất ...        0.0       1.0   \n",
       "\n",
       "   Gia ban  Thiet ke  Chat luong san pham  Cham soc khach hang  Do nhay  \n",
       "0      0.0       0.0                  1.0                  0.0      1.0  \n",
       "1      1.0       1.0                  1.0                  0.0      0.0  \n",
       "2      0.0       0.0                  1.0                  0.0      0.0  \n",
       "3      0.0       1.0                  0.0                  0.0      1.0  \n",
       "4      0.0       0.0                  1.0                  0.0      0.0  "
      ]
     },
     "execution_count": 7,
     "metadata": {},
     "output_type": "execute_result"
    }
   ],
   "source": [
    "df = pd.read_csv('Test.csv', sep=',')\n",
    "print(df.shape)\n",
    "df.head()"
   ]
  },
  {
   "cell_type": "code",
   "execution_count": 17,
   "metadata": {},
   "outputs": [
    {
     "name": "stdout",
     "output_type": "stream",
     "text": [
      "Giao hang : roc_auc = 0.8605308106687688 , f1_score =  0.8349514563106796\n",
      "Dong goi : roc_auc = 0.8927055702917772 , f1_score =  0.8761904761904762\n",
      "Gia ban : roc_auc = 0.7820121951219512 , f1_score =  0.6122448979591836\n",
      "Thiet ke : roc_auc = 0.828125 , f1_score =  0.7692307692307692\n",
      "Chat luong san pham : roc_auc = 0.7292035398230088 , f1_score =  0.8083333333333333\n",
      "Cham soc khach hang : roc_auc = 0.8561253561253562 , f1_score =  0.7916666666666666\n",
      "Do nhay : roc_auc = 0.7220552454558465 , f1_score =  0.6046511627906976\n"
     ]
    }
   ],
   "source": [
    "for i in range(len(rand_search)):\n",
    "    y_pred = rand_search[i].predict(df['comment_content'])\n",
    "    print(target[i],\": roc_auc =\", metrics.roc_auc_score(df[target[i]],y_pred),\n",
    "         \", f1_score = \", metrics.f1_score(df[target[i]],y_pred))"
   ]
  },
  {
   "cell_type": "code",
   "execution_count": null,
   "metadata": {},
   "outputs": [],
   "source": []
  }
 ],
 "metadata": {
  "kernelspec": {
   "display_name": "Python 3",
   "language": "python",
   "name": "python3"
  },
  "language_info": {
   "codemirror_mode": {
    "name": "ipython",
    "version": 3
   },
   "file_extension": ".py",
   "mimetype": "text/x-python",
   "name": "python",
   "nbconvert_exporter": "python",
   "pygments_lexer": "ipython3",
   "version": "3.7.1"
  }
 },
 "nbformat": 4,
 "nbformat_minor": 2
}
